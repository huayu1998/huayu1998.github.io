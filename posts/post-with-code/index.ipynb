{
 "cells": [
  {
   "cell_type": "raw",
   "metadata": {},
   "source": [
    "---\n",
    "title: Post With Code\n",
    "author: Huayu Liang\n",
    "date: '2023-10-05'\n",
    "execute:\n",
    "  echo: fenced\n",
    "categories:\n",
    "  - random\n",
    "image: image.jpg\n",
    "---"
   ]
  },
  {
   "cell_type": "markdown",
   "metadata": {},
   "source": [
    "Here is some sample R code\n",
    "\n",
    "```{r}\n",
    "1 + 1\n",
    "```\n",
    "\n",
    "But we also want to run Python"
   ]
  },
  {
   "cell_type": "code",
   "execution_count": null,
   "metadata": {},
   "outputs": [],
   "source": [
    "for i in range(9):\n",
    "  print(i)"
   ]
  },
  {
   "cell_type": "code",
   "execution_count": null,
   "metadata": {},
   "outputs": [],
   "source": [
    "x = 5"
   ]
  },
  {
   "cell_type": "code",
   "execution_count": null,
   "metadata": {},
   "outputs": [],
   "source": [
    "#| echo: false\n",
    "#| output: false\n",
    "# Testing a change in Jupyter notebook\n",
    "# I'm writing this now in RStudio\n",
    "# I'm writing this now in Jupyterlab again\n",
    "import warnings\n",
    "\n",
    "warnings.filterwarnings(\"ignore\")"
   ]
  },
  {
   "cell_type": "markdown",
   "metadata": {},
   "source": [
    "The plot below is from the [Seaborn Python library documentation](https://seaborn.pydata.org/examples/horizontal_boxplot.html)"
   ]
  },
  {
   "cell_type": "code",
   "execution_count": null,
   "metadata": {},
   "outputs": [],
   "source": [
    "import seaborn as sns\n",
    "import matplotlib.pyplot as plt\n",
    "sns.set_theme(style=\"ticks\")\n",
    "# Initialize the figure with a logarithmic x axis\n",
    "f, ax = plt.subplots(figsize=(7, 6))\n",
    "ax.set_xscale(\"log\")\n",
    "# Load the example planets dataset\n",
    "planets = sns.load_dataset(\"planets\")\n",
    "# Plot the orbital period with horizontal boxes\n",
    "sns.boxplot(\n",
    "    planets, x=\"distance\", y=\"method\", hue=\"method\",\n",
    "    whis=[0, 100], width=.6, palette=\"vlag\"\n",
    ")\n",
    "# Add in points to show each observation\n",
    "sns.stripplot(planets, x=\"distance\", y=\"method\", size=4, color=\".3\")\n",
    "# Tweak the visual presentation\n",
    "ax.xaxis.grid(True)\n",
    "ax.set(ylabel=\"\")\n",
    "sns.despine(trim=True, left=True)"
   ]
  },
  {
   "cell_type": "markdown",
   "metadata": {},
   "source": [
    "The plot below is from the [Yellowbrick Python library documentation](https://www.scikit-yb.org/en/latest/api/features/jointplot.html?highlight=joint%20plot#joint-plot-visualization):"
   ]
  },
  {
   "cell_type": "code",
   "execution_count": null,
   "metadata": {},
   "outputs": [],
   "source": [
    "import numpy as np\n",
    "from yellowbrick.datasets import load_concrete\n",
    "from yellowbrick.features import JointPlotVisualizer\n",
    "\n",
    "# Load the dataset\n",
    "X, y = load_concrete()\n",
    "\n",
    "# Instantiate the visualizer\n",
    "visualizer = JointPlotVisualizer(columns=\"cement\")\n",
    "\n",
    "visualizer.fit_transform(X, y)        # Fit and transform the data\n",
    "visualizer.show()                     # Finalize and render the figure"
   ]
  },
  {
   "cell_type": "markdown",
   "metadata": {},
   "source": [
    "This is a change to the markdown text."
   ]
  }
 ],
 "metadata": {
  "jupytext": {
   "formats": "qmd:quarto,py:percent,md,ipynb"
  },
  "kernelspec": {
   "display_name": "Python 3 (ipykernel)",
   "language": "python",
   "name": "python3"
  },
  "language_info": {
   "codemirror_mode": {
    "name": "ipython",
    "version": 3
   },
   "file_extension": ".py",
   "mimetype": "text/x-python",
   "name": "python",
   "nbconvert_exporter": "python",
   "pygments_lexer": "ipython3",
   "version": "3.11.3"
  }
 },
 "nbformat": 4,
 "nbformat_minor": 4
}
